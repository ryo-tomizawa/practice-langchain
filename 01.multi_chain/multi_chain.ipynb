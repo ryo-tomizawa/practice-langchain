{
 "cells": [
  {
   "cell_type": "code",
   "execution_count": 15,
   "metadata": {},
   "outputs": [],
   "source": [
    "import os\n",
    "from dotenv import load_dotenv\n",
    "from langchain_core.output_parsers import StrOutputParser\n",
    "from langchain_core.prompts import ChatPromptTemplate\n",
    "from langchain_openai import ChatOpenAI"
   ]
  },
  {
   "cell_type": "code",
   "execution_count": 16,
   "metadata": {},
   "outputs": [],
   "source": [
    "load_dotenv()\n",
    "openai_key = os.environ[\"OPEN_AI_KEY\"]"
   ]
  },
  {
   "cell_type": "code",
   "execution_count": 17,
   "metadata": {},
   "outputs": [],
   "source": [
    "model = ChatOpenAI(api_key=openai_key, model=\"gpt-4o-mini\", temperature=0)\n",
    "output_parser = StrOutputParser()"
   ]
  },
  {
   "cell_type": "code",
   "execution_count": 18,
   "metadata": {},
   "outputs": [],
   "source": [
    "# 1つ目のchainの作成\n",
    "from langchain_core.runnables import RunnablePassthrough\n",
    "\n",
    "first_prompt = ChatPromptTemplate.from_template(\"\"\"\n",
    "    以下の国から連想される色を回答してください。色のみ回答し、それ以外は返さないでください。\n",
    "\n",
    "    国：{country}\n",
    "    \"\"\"\n",
    ")\n",
    "first_chain = first_prompt | model | output_parser"
   ]
  },
  {
   "cell_type": "code",
   "execution_count": 19,
   "metadata": {},
   "outputs": [],
   "source": [
    "# 2つ目のchainの作成\n",
    "second_prompt = ChatPromptTemplate.from_template(\"\"\"\n",
    "    以下の色から連想されるフルーツを１つ回答してください。名称のみ回答し、それ以外は返さないでください。\n",
    "\n",
    "    色：{color}\n",
    "    \"\"\"\n",
    ")\n",
    "second_chain = {\"color\": first_chain} | second_prompt | model | output_parser"
   ]
  },
  {
   "cell_type": "code",
   "execution_count": 21,
   "metadata": {},
   "outputs": [
    {
     "name": "stdout",
     "output_type": "stream",
     "text": [
      "りんご\n"
     ]
    }
   ],
   "source": [
    "multi_chain = first_chain | second_chain\n",
    "output = multi_chain.invoke({\"country\": \"日本\"})\n",
    "print(output)"
   ]
  },
  {
   "cell_type": "code",
   "execution_count": null,
   "metadata": {},
   "outputs": [],
   "source": []
  }
 ],
 "metadata": {
  "kernelspec": {
   "display_name": "Python 3",
   "language": "python",
   "name": "python3"
  },
  "language_info": {
   "codemirror_mode": {
    "name": "ipython",
    "version": 3
   },
   "file_extension": ".py",
   "mimetype": "text/x-python",
   "name": "python",
   "nbconvert_exporter": "python",
   "pygments_lexer": "ipython3",
   "version": "3.10.4"
  }
 },
 "nbformat": 4,
 "nbformat_minor": 2
}
